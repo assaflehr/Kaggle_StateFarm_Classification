{
 "cells": [
  {
   "cell_type": "markdown",
   "metadata": {},
   "source": [
    "1st try into Keras.  \n",
    "Almost a copy of this blog post about dogs vs cats classification: \"Building powerful image classification models using very little data\"\n",
    "https://gist.github.com/fchollet/0830affa1f7f19fd47b06d4cf89ed44d\n",
    "    "
   ]
  },
  {
   "cell_type": "code",
   "execution_count": 32,
   "metadata": {
    "collapsed": false
   },
   "outputs": [
    {
     "name": "stdout",
     "output_type": "stream",
     "text": [
      "OMP_NUM_THREADS 2\n",
      "Found 19390 images belonging to 10 classes.\n",
      "Found 3034 images belonging to 10 classes.\n",
      "v5\n",
      "running statefarm-predict as main. doing nothing\n"
     ]
    }
   ],
   "source": [
    "import os\n",
    "print 'OMP_NUM_THREADS',os.environ['OMP_NUM_THREADS']\n",
    "%run 'statefarm-util.ipynb'"
   ]
  },
  {
   "cell_type": "code",
   "execution_count": 33,
   "metadata": {
    "collapsed": false
   },
   "outputs": [],
   "source": [
    "#TODOs for next-chapter\n",
    "# read http://cs231n.github.io/neural-networks-2/ and do it point by point\n",
    "# Initiation: the current recommendation is to use ReLU units and use the w = np.random.randn(n) * sqrt(2.0/n), as discussed in He et al..\n",
    "#           model.add(Dense(64, init='he_normal'))\n",
    "# Normalization:\n",
    "#   The recommended preprocessing is to center the data to have mean of zero, and normalize its scale to [-1, 1] along each feature\n",
    "#   done via pre-processing...\n",
    "#   It is most common to use a single, global L2 regularization strength that is cross-validated. \n",
    "#      from keras.regularizers import l2, activity_l2\n",
    "#      model.add(Dense(64, input_dim=64, W_regularizer=l2(0.01), activity_regularizer=activity_l2(0.01)))\n",
    "#   It is also common to combine this with dropout applied after all layers.\n",
    "#      The value of p=0.5  is a reasonable default, but this can be tuned on validation data.\n",
    "#   Batch-norm between the conv/dense layer and the relu -> FOR NOW IT IS OUT , to save time\n",
    "# Activation: \n",
    "#   PReLU and LeakyReLU, probably leakyRelu. see http://keras.io/layers/advanced-activations/ alpha value is\n",
    "#   super criticla in one paper 5.5 . although in keras default is 0.3\n",
    "#    model.add(Activation(LeakyReLU(alpha=5.5)) )  default is 0.3 NOT SURE WHAT IS BETTER\n",
    "# optimizers: The two recommended updates to use are either SGD+Nesterov Momentum or Adam.\n",
    "\n",
    "\n",
    "#\n",
    "#  other: tune the dropout 0.5\n",
    "#  Batch-norm between the conv/dense layer and the relu -> FOR NOW IT IS OUT , to save time\n",
    "#  \n",
    "# change optimizer to SGD_ Nesterov\n",
    "\n",
    "# PROBLEM: compiling the model with leakyrelu fucked us with \"Overriding existing lock by dead process\" \n",
    "\n",
    "\n",
    "# Time: 150x150 (32,3,3) (32,3,3) (64,3,3) -> Dense(1-3xN) -> dropout0.5-> dense10\n",
    "\n",
    "# init  BN   Relu    Dense  Reg_W reg_A  Dropout  OMP  Time#1024  \n",
    "##########################################################################\n",
    "# he_n  No   Yes     1x50    L2     L2    0.5     8   57-60s    (50-60% cpu)\n",
    "# he_n  No   Yes     1x50    L2     L2    0.5     4   64-67s     \n",
    "# he_n  No   Yes     1x50    L2     L2    0.5     3   62-65s    (50-60% cpu)\n",
    "# he_n  No   Yes     1x50    L2     L2    0.5     2   57-59s     (40-44% cpu)  <---best and using less CPU\n",
    "# he_n  No   Yes     1x50    L2     L2    0.5     1   72-77s            \n",
    "# he_n  Yes  Yes     1x50    L2     L2    0.5     1   153-156s  (100% BN more than doubles the time!)\n",
    "#                                                               Note BN cost is on the biggest layer(1st between conv and dense)\n",
    "# he_n  Yes  Yes     1x50    No     No    0.5     1   146-151s  (5% cost to add W+A Regulation)\n",
    "# he_n  No   Yes     1x50    No     No    No      1   67-70s    (7% cost to add Dropout)\n",
    "# he_n  No   Yes     3x50    No     No    No      1   67-69s\n",
    "# he_n  No   Yes     3x200   No     No    No      1   71-73s     (6% to make the Dense layer 50->200)\n",
    "# Model we shall use:\n",
    "# he_n  Half  Yes      3x200   L2     L2    0.5     2             BN-not on the biggest layer\n",
    "\n",
    "from keras.models import Sequential\n",
    "from keras.layers import Convolution2D, MaxPooling2D\n",
    "from keras.layers import Activation, Dropout, Flatten, Dense ,BatchNormalization\n",
    "from keras.regularizers import l2, activity_l2\n",
    "from keras.layers.advanced_activations import LeakyReLU\n",
    "                                                                                      \n",
    "def define_model():\n",
    "    init='he_normal'\n",
    "    W_regularizer=l2(0.01)\n",
    "    activity_regularizer=activity_l2(0.01)\n",
    "    \n",
    "    def addBN():\n",
    "        model.add(BatchNormalization())\n",
    "    \n",
    "    def addActivation():\n",
    "        model.add(Activation('relu'))   #model.add(Activation(LeakyReLU(alpha=5.5)) )\n",
    "    \n",
    "    def addDropout():\n",
    "        model.add(Dropout(0.5))\n",
    "    \n",
    "    def addDense():\n",
    "        model.add(Dense(200,init=init,  W_regularizer=W_regularizer, activity_regularizer=activity_regularizer))\n",
    "        #addBN() ###########################################NO BN IN THIS LEVEL ################################\n",
    "        addActivation()\n",
    "        model.add(Dense(200,init=init, W_regularizer=W_regularizer, activity_regularizer=activity_regularizer))\n",
    "        addBN()\n",
    "        addActivation()\n",
    "        model.add(Dense(200,init=init,    W_regularizer=W_regularizer, activity_regularizer=activity_regularizer))\n",
    "        addBN()\n",
    "        addActivation()\n",
    "   \n",
    "    \n",
    "    model = Sequential()\n",
    "    \n",
    "    model.add(Convolution2D(32, 3, 3, input_shape=(3, img_width, img_height),init=init,\n",
    "                            W_regularizer=W_regularizer, activity_regularizer=activity_regularizer))\n",
    "    addBN()\n",
    "    addActivation()\n",
    "    model.add(MaxPooling2D(pool_size=(2, 2)))\n",
    "\n",
    "\n",
    "    model.add(Convolution2D(32, 3, 3,init=init,  W_regularizer=W_regularizer, activity_regularizer=activity_regularizer))\n",
    "    addBN()\n",
    "    addActivation()\n",
    "    model.add(MaxPooling2D(pool_size=(2, 2)))\n",
    "\n",
    "    model.add(Convolution2D(64, 3, 3,init=init,  W_regularizer=W_regularizer, activity_regularizer=activity_regularizer))\n",
    "    addBN()\n",
    "    addActivation()\n",
    "    model.add(MaxPooling2D(pool_size=(2, 2)))\n",
    "\n",
    "    model.add(Flatten())\n",
    "    \n",
    "    addDense()\n",
    "    addDropout()\n",
    "    \n",
    "    model.add(Dense(10,init=init) ) \n",
    "    model.add(Activation('softmax'))   \n",
    "    return model\n",
    "\n",
    "\n",
    "\n"
   ]
  },
  {
   "cell_type": "markdown",
   "metadata": {},
   "source": []
  },
  {
   "cell_type": "markdown",
   "metadata": {
    "collapsed": false
   },
   "source": []
  },
  {
   "cell_type": "code",
   "execution_count": null,
   "metadata": {
    "collapsed": true
   },
   "outputs": [],
   "source": []
  },
  {
   "cell_type": "code",
   "execution_count": 35,
   "metadata": {
    "collapsed": false
   },
   "outputs": [
    {
     "name": "stdout",
     "output_type": "stream",
     "text": [
      "model started from scratch\n",
      "model model3_optimization_test compiled\n",
      "Epoch 1/1\n",
      "5120/5120 [==============================] - 699s - loss: 18.1189 - acc: 0.2369 - val_loss: 2.1892 - val_acc: 0.3574\n",
      "Saved model to disk model_chapter3_0epoc\n",
      "Epoch 1/1\n",
      "5120/5120 [==============================] - 765s - loss: 7.5443 - acc: 0.4570 - val_loss: 1.5257 - val_acc: 0.4697\n",
      "Saved model to disk model_chapter3_1epoc\n",
      "Epoch 1/1\n",
      "5120/5120 [==============================] - 689s - loss: 3.5896 - acc: 0.6488 - val_loss: 1.9699 - val_acc: 0.3590\n",
      "Saved model to disk model_chapter3_2epoc\n",
      "Epoch 1/1\n",
      "5118/5120 [============================>.] - ETA: 0s - loss: 1.8991 - acc: 0.7614"
     ]
    },
    {
     "name": "stderr",
     "output_type": "stream",
     "text": [
      "C:\\Python27\\Anaconda2\\1\\lib\\site-packages\\keras\\engine\\training.py:1403: UserWarning: Epoch comprised more than `samples_per_epoch` samples, which might affect learning results. Set `samples_per_epoch` correctly to avoid this warning.\n",
      "  warnings.warn('Epoch comprised more than '\n"
     ]
    },
    {
     "name": "stdout",
     "output_type": "stream",
     "text": [
      "5150/5120 [==============================] - 697s - loss: 1.8959 - acc: 0.7616 - val_loss: 1.8912 - val_acc: 0.3887\n",
      "Saved model to disk model_chapter3_3epoc\n",
      "Epoch 1/1\n",
      "5120/5120 [==============================] - 707s - loss: 1.2178 - acc: 0.7992 - val_loss: 1.5978 - val_acc: 0.4756\n",
      "Saved model to disk model_chapter3_4epoc\n",
      "Epoch 1/1\n",
      "5120/5120 [==============================] - 710s - loss: 0.9396 - acc: 0.8277 - val_loss: 1.6677 - val_acc: 0.5829\n",
      "Saved model to disk model_chapter3_5epoc\n",
      "Epoch 1/1\n",
      "5120/5120 [==============================] - 702s - loss: 0.8008 - acc: 0.8520 - val_loss: 1.9146 - val_acc: 0.5781\n",
      "Saved model to disk model_chapter3_6epoc\n",
      "Epoch 1/1\n",
      "5150/5120 [==============================] - 707s - loss: 0.6810 - acc: 0.8798 - val_loss: 1.3611 - val_acc: 0.5752\n",
      "Saved model to disk model_chapter3_7epoc\n",
      "Epoch 1/1\n",
      "5120/5120 [==============================] - 707s - loss: 0.6647 - acc: 0.8748 - val_loss: 1.8251 - val_acc: 0.5314\n",
      "Saved model to disk model_chapter3_8epoc\n",
      "Epoch 1/1\n",
      "5120/5120 [==============================] - 706s - loss: 0.6234 - acc: 0.8936 - val_loss: 1.5517 - val_acc: 0.5908\n",
      "Saved model to disk model_chapter3_9epoc\n",
      "Epoch 1/1\n",
      "5150/5120 [==============================] - 709s - loss: 0.5812 - acc: 0.9054 - val_loss: 1.8407 - val_acc: 0.5225\n",
      "Saved model to disk model_chapter3_10epoc\n"
     ]
    },
    {
     "data": {
      "image/png": "[encoded data removed]",
      "text/plain": [
       "<matplotlib.figure.Figure at 0x338f5a58>"
      ]
     },
     "metadata": {},
     "output_type": "display_data"
    },
    {
     "name": "stdout",
     "output_type": "stream",
     "text": [
      "Epoch 1/1\n",
      "5120/5120 [==============================] - 722s - loss: 0.5475 - acc: 0.9109 - val_loss: 2.1834 - val_acc: 0.4419\n",
      "Saved model to disk model_chapter3_11epoc\n",
      "Epoch 1/1\n",
      "5120/5120 [==============================] - 705s - loss: 0.5673 - acc: 0.9082 - val_loss: 1.8477 - val_acc: 0.4600\n",
      "Saved model to disk model_chapter3_12epoc\n",
      "Epoch 1/1\n",
      "5120/5120 [==============================] - 707s - loss: 0.5082 - acc: 0.9176 - val_loss: 2.2941 - val_acc: 0.4043\n",
      "Saved model to disk model_chapter3_13epoc\n",
      "Epoch 1/1\n",
      "5150/5120 [==============================] - 710s - loss: 0.4938 - acc: 0.9202 - val_loss: 2.1838 - val_acc: 0.5295\n",
      "Saved model to disk model_chapter3_14epoc\n",
      "Epoch 1/1\n",
      "5120/5120 [==============================] - 706s - loss: 0.5213 - acc: 0.9145 - val_loss: 1.5651 - val_acc: 0.5869\n",
      "Saved model to disk model_chapter3_15epoc\n",
      "Epoch 1/1\n",
      "5120/5120 [==============================] - 705s - loss: 0.4936 - acc: 0.9201 - val_loss: 2.4939 - val_acc: 0.4004\n",
      "Saved model to disk model_chapter3_16epoc\n",
      "Epoch 1/1\n",
      "5150/5120 [==============================] - 711s - loss: 0.4788 - acc: 0.9227 - val_loss: 2.0435 - val_acc: 0.5019\n",
      "Saved model to disk model_chapter3_17epoc\n",
      "Epoch 1/1\n",
      "5120/5120 [==============================] - 6737s - loss: 0.4608 - acc: 0.9320 - val_loss: 1.7246 - val_acc: 0.5732\n",
      "Saved model to disk model_chapter3_18epoc\n",
      "Epoch 1/1\n",
      "5120/5120 [==============================] - 865s - loss: 0.4617 - acc: 0.9270 - val_loss: 1.6866 - val_acc: 0.5105\n",
      "Saved model to disk model_chapter3_19epoc\n",
      "Epoch 1/1\n",
      "5120/5120 [==============================] - 725s - loss: 0.4371 - acc: 0.9326 - val_loss: 2.0543 - val_acc: 0.5186\n",
      "Saved model to disk model_chapter3_20epoc\n"
     ]
    },
    {
     "data": {
      "image/png": "[encoded data removed]",
      "text/plain": [
       "<matplotlib.figure.Figure at 0x33a44908>"
      ]
     },
     "metadata": {},
     "output_type": "display_data"
    },
    {
     "name": "stdout",
     "output_type": "stream",
     "text": [
      "Epoch 1/1\n",
      "5150/5120 [==============================] - 763s - loss: 0.4078 - acc: 0.9400 - val_loss: 1.3626 - val_acc: 0.5693\n",
      "Saved model to disk model_chapter3_21epoc\n",
      "Epoch 1/1\n",
      "5120/5120 [==============================] - 722s - loss: 0.4284 - acc: 0.9291 - val_loss: 2.0113 - val_acc: 0.5086\n",
      "Saved model to disk model_chapter3_22epoc\n",
      "Epoch 1/1\n",
      "5120/5120 [==============================] - 714s - loss: 0.3989 - acc: 0.9387 - val_loss: 1.9385 - val_acc: 0.5098\n",
      "Saved model to disk model_chapter3_23epoc\n",
      "Epoch 1/1\n",
      "5150/5120 [==============================] - 2382s - loss: 0.4078 - acc: 0.9373 - val_loss: 1.8410 - val_acc: 0.5400\n",
      "Saved model to disk model_chapter3_24epoc\n",
      "Epoch 1/1\n",
      "5120/5120 [==============================] - 993s - loss: 0.3980 - acc: 0.9428 - val_loss: 1.8887 - val_acc: 0.5914\n",
      "Saved model to disk model_chapter3_25epoc\n",
      "Epoch 1/1\n",
      "5120/5120 [==============================] - 1028s - loss: 0.3684 - acc: 0.9473 - val_loss: 1.7394 - val_acc: 0.5029\n",
      "Saved model to disk model_chapter3_26epoc\n",
      "Epoch 1/1\n",
      "5120/5120 [==============================] - 1023s - loss: 0.3897 - acc: 0.9422 - val_loss: 1.7095 - val_acc: 0.6035\n",
      "Saved model to disk model_chapter3_27epoc\n",
      "Epoch 1/1\n",
      "5150/5120 [==============================] - 1057s - loss: 0.3924 - acc: 0.9437 - val_loss: 2.1189 - val_acc: 0.4619\n",
      "Saved model to disk model_chapter3_28epoc\n",
      "Epoch 1/1\n",
      "5120/5120 [==============================] - 993s - loss: 0.3608 - acc: 0.9496 - val_loss: 1.7863 - val_acc: 0.4980\n",
      "Saved model to disk model_chapter3_29epoc\n",
      "Epoch 1/1\n",
      "5120/5120 [==============================] - 721s - loss: 0.3641 - acc: 0.9482 - val_loss: 1.3679 - val_acc: 0.6270\n",
      "Saved model to disk model_chapter3_30epoc\n"
     ]
    },
    {
     "data": {
      "image/png": "[encoded data removed]",
      "text/plain": [
       "<matplotlib.figure.Figure at 0x3399df98>"
      ]
     },
     "metadata": {},
     "output_type": "display_data"
    },
    {
     "name": "stdout",
     "output_type": "stream",
     "text": [
      "Epoch 1/1\n",
      "5120/5120 [==============================] - 717s - loss: 0.3455 - acc: 0.9500 - val_loss: 2.3947 - val_acc: 0.5114\n",
      "Saved model to disk model_chapter3_31epoc\n",
      "Epoch 1/1\n",
      "5150/5120 [==============================] - 24173s - loss: 0.3930 - acc: 0.9396 - val_loss: 1.5705 - val_acc: 0.5625\n",
      "Saved model to disk model_chapter3_32epoc\n",
      "Epoch 1/1\n",
      "5120/5120 [==============================] - 817s - loss: 0.3443 - acc: 0.9473 - val_loss: 2.4171 - val_acc: 0.4336\n",
      "Saved model to disk model_chapter3_33epoc\n",
      "Epoch 1/1\n",
      "5120/5120 [==============================] - 845s - loss: 0.3496 - acc: 0.9543 - val_loss: 1.3599 - val_acc: 0.6429\n",
      "Saved model to disk model_chapter3_34epoc\n",
      "Epoch 1/1\n",
      "5150/5120 [==============================] - 1074s - loss: 0.3748 - acc: 0.9466 - val_loss: 1.6353 - val_acc: 0.5996\n",
      "Saved model to disk model_chapter3_35epoc\n",
      "Epoch 1/1\n",
      "5120/5120 [==============================] - 1080s - loss: 0.3333 - acc: 0.9549 - val_loss: 1.8688 - val_acc: 0.5459\n",
      "Saved model to disk model_chapter3_36epoc\n",
      "Epoch 1/1\n",
      "5120/5120 [==============================] - 1115s - loss: 0.3378 - acc: 0.9510 - val_loss: 2.2319 - val_acc: 0.4705\n",
      "Saved model to disk model_chapter3_37epoc\n",
      "Epoch 1/1\n",
      " 864/5120 [====>.........................] - ETA: 839s - loss: 0.3226 - acc: 0.9468"
     ]
    },
    {
     "ename": "KeyboardInterrupt",
     "evalue": "",
     "output_type": "error",
     "traceback": [
      "\u001b[1;31m---------------------------------------------------------------------------\u001b[0m",
      "\u001b[1;31mKeyboardInterrupt\u001b[0m                         Traceback (most recent call last)",
      "\u001b[1;32m<ipython-input-35-a9bfef2e59f6>\u001b[0m in \u001b[0;36m<module>\u001b[1;34m()\u001b[0m\n\u001b[0;32m     19\u001b[0m             \u001b[0mnb_epoch\u001b[0m\u001b[1;33m=\u001b[0m\u001b[1;36m1\u001b[0m\u001b[1;33m,\u001b[0m\u001b[1;33m\u001b[0m\u001b[0m\n\u001b[0;32m     20\u001b[0m             \u001b[0mvalidation_data\u001b[0m\u001b[1;33m=\u001b[0m\u001b[0mvalidation_generator\u001b[0m\u001b[1;33m,\u001b[0m\u001b[1;33m\u001b[0m\u001b[0m\n\u001b[1;32m---> 21\u001b[1;33m             nb_val_samples=nb_validation_samples)\n\u001b[0m\u001b[0;32m     22\u001b[0m         \u001b[0mhistory_list\u001b[0m\u001b[1;33m.\u001b[0m\u001b[0mappend\u001b[0m\u001b[1;33m(\u001b[0m\u001b[0mhistory\u001b[0m\u001b[1;33m)\u001b[0m\u001b[1;33m\u001b[0m\u001b[0m\n\u001b[0;32m     23\u001b[0m         \u001b[0msaveToFiles\u001b[0m\u001b[1;33m(\u001b[0m\u001b[0mmodel\u001b[0m\u001b[1;33m,\u001b[0m\u001b[1;34m'model_chapter3_'\u001b[0m\u001b[1;33m+\u001b[0m\u001b[0mstr\u001b[0m\u001b[1;33m(\u001b[0m\u001b[0mi\u001b[0m\u001b[1;33m)\u001b[0m\u001b[1;33m+\u001b[0m\u001b[1;34m'epoc'\u001b[0m\u001b[1;33m)\u001b[0m\u001b[1;33m\u001b[0m\u001b[0m\n",
      "\u001b[1;32mC:\\Python27\\Anaconda2\\1\\lib\\site-packages\\keras\\models.pyc\u001b[0m in \u001b[0;36mfit_generator\u001b[1;34m(self, generator, samples_per_epoch, nb_epoch, verbose, callbacks, validation_data, nb_val_samples, class_weight, max_q_size, **kwargs)\u001b[0m\n\u001b[0;32m    654\u001b[0m                                         \u001b[0mnb_val_samples\u001b[0m\u001b[1;33m=\u001b[0m\u001b[0mnb_val_samples\u001b[0m\u001b[1;33m,\u001b[0m\u001b[1;33m\u001b[0m\u001b[0m\n\u001b[0;32m    655\u001b[0m                                         \u001b[0mclass_weight\u001b[0m\u001b[1;33m=\u001b[0m\u001b[0mclass_weight\u001b[0m\u001b[1;33m,\u001b[0m\u001b[1;33m\u001b[0m\u001b[0m\n\u001b[1;32m--> 656\u001b[1;33m                                         max_q_size=max_q_size)\n\u001b[0m\u001b[0;32m    657\u001b[0m \u001b[1;33m\u001b[0m\u001b[0m\n\u001b[0;32m    658\u001b[0m     \u001b[1;32mdef\u001b[0m \u001b[0mevaluate_generator\u001b[0m\u001b[1;33m(\u001b[0m\u001b[0mself\u001b[0m\u001b[1;33m,\u001b[0m \u001b[0mgenerator\u001b[0m\u001b[1;33m,\u001b[0m \u001b[0mval_samples\u001b[0m\u001b[1;33m,\u001b[0m \u001b[0mmax_q_size\u001b[0m\u001b[1;33m=\u001b[0m\u001b[1;36m10\u001b[0m\u001b[1;33m,\u001b[0m \u001b[1;33m**\u001b[0m\u001b[0mkwargs\u001b[0m\u001b[1;33m)\u001b[0m\u001b[1;33m:\u001b[0m\u001b[1;33m\u001b[0m\u001b[0m\n",
      "\u001b[1;32mC:\\Python27\\Anaconda2\\1\\lib\\site-packages\\keras\\engine\\training.pyc\u001b[0m in \u001b[0;36mfit_generator\u001b[1;34m(self, generator, samples_per_epoch, nb_epoch, verbose, callbacks, validation_data, nb_val_samples, class_weight, max_q_size)\u001b[0m\n\u001b[0;32m   1382\u001b[0m                     outs = self.train_on_batch(x, y,\n\u001b[0;32m   1383\u001b[0m                                                \u001b[0msample_weight\u001b[0m\u001b[1;33m=\u001b[0m\u001b[0msample_weight\u001b[0m\u001b[1;33m,\u001b[0m\u001b[1;33m\u001b[0m\u001b[0m\n\u001b[1;32m-> 1384\u001b[1;33m                                                class_weight=class_weight)\n\u001b[0m\u001b[0;32m   1385\u001b[0m                 \u001b[1;32mexcept\u001b[0m \u001b[0mException\u001b[0m \u001b[1;32mas\u001b[0m \u001b[0me\u001b[0m\u001b[1;33m:\u001b[0m\u001b[1;33m\u001b[0m\u001b[0m\n\u001b[0;32m   1386\u001b[0m                     \u001b[0m_stop\u001b[0m\u001b[1;33m.\u001b[0m\u001b[0mset\u001b[0m\u001b[1;33m(\u001b[0m\u001b[1;33m)\u001b[0m\u001b[1;33m\u001b[0m\u001b[0m\n",
      "\u001b[1;32mC:\\Python27\\Anaconda2\\1\\lib\\site-packages\\keras\\engine\\training.pyc\u001b[0m in \u001b[0;36mtrain_on_batch\u001b[1;34m(self, x, y, sample_weight, class_weight)\u001b[0m\n\u001b[0;32m   1166\u001b[0m             \u001b[0mins\u001b[0m \u001b[1;33m=\u001b[0m \u001b[0mx\u001b[0m \u001b[1;33m+\u001b[0m \u001b[0my\u001b[0m \u001b[1;33m+\u001b[0m \u001b[0msample_weights\u001b[0m\u001b[1;33m\u001b[0m\u001b[0m\n\u001b[0;32m   1167\u001b[0m         \u001b[0mself\u001b[0m\u001b[1;33m.\u001b[0m\u001b[0m_make_train_function\u001b[0m\u001b[1;33m(\u001b[0m\u001b[1;33m)\u001b[0m\u001b[1;33m\u001b[0m\u001b[0m\n\u001b[1;32m-> 1168\u001b[1;33m         \u001b[0moutputs\u001b[0m \u001b[1;33m=\u001b[0m \u001b[0mself\u001b[0m\u001b[1;33m.\u001b[0m\u001b[0mtrain_function\u001b[0m\u001b[1;33m(\u001b[0m\u001b[0mins\u001b[0m\u001b[1;33m)\u001b[0m\u001b[1;33m\u001b[0m\u001b[0m\n\u001b[0m\u001b[0;32m   1169\u001b[0m         \u001b[1;32mif\u001b[0m \u001b[0mlen\u001b[0m\u001b[1;33m(\u001b[0m\u001b[0moutputs\u001b[0m\u001b[1;33m)\u001b[0m \u001b[1;33m==\u001b[0m \u001b[1;36m1\u001b[0m\u001b[1;33m:\u001b[0m\u001b[1;33m\u001b[0m\u001b[0m\n\u001b[0;32m   1170\u001b[0m             \u001b[1;32mreturn\u001b[0m \u001b[0moutputs\u001b[0m\u001b[1;33m[\u001b[0m\u001b[1;36m0\u001b[0m\u001b[1;33m]\u001b[0m\u001b[1;33m\u001b[0m\u001b[0m\n",
      "\u001b[1;32mC:\\Python27\\Anaconda2\\1\\lib\\site-packages\\keras\\backend\\theano_backend.pyc\u001b[0m in \u001b[0;36m__call__\u001b[1;34m(self, inputs)\u001b[0m\n\u001b[0;32m    516\u001b[0m     \u001b[1;32mdef\u001b[0m \u001b[0m__call__\u001b[0m\u001b[1;33m(\u001b[0m\u001b[0mself\u001b[0m\u001b[1;33m,\u001b[0m \u001b[0minputs\u001b[0m\u001b[1;33m)\u001b[0m\u001b[1;33m:\u001b[0m\u001b[1;33m\u001b[0m\u001b[0m\n\u001b[0;32m    517\u001b[0m         \u001b[1;32massert\u001b[0m \u001b[0mtype\u001b[0m\u001b[1;33m(\u001b[0m\u001b[0minputs\u001b[0m\u001b[1;33m)\u001b[0m \u001b[1;32min\u001b[0m \u001b[1;33m{\u001b[0m\u001b[0mlist\u001b[0m\u001b[1;33m,\u001b[0m \u001b[0mtuple\u001b[0m\u001b[1;33m}\u001b[0m\u001b[1;33m\u001b[0m\u001b[0m\n\u001b[1;32m--> 518\u001b[1;33m         \u001b[1;32mreturn\u001b[0m \u001b[0mself\u001b[0m\u001b[1;33m.\u001b[0m\u001b[0mfunction\u001b[0m\u001b[1;33m(\u001b[0m\u001b[1;33m*\u001b[0m\u001b[0minputs\u001b[0m\u001b[1;33m)\u001b[0m\u001b[1;33m\u001b[0m\u001b[0m\n\u001b[0m\u001b[0;32m    519\u001b[0m \u001b[1;33m\u001b[0m\u001b[0m\n\u001b[0;32m    520\u001b[0m \u001b[1;33m\u001b[0m\u001b[0m\n",
      "\u001b[1;32mC:\\Python27\\Anaconda2\\1\\lib\\site-packages\\theano\\compile\\function_module.pyc\u001b[0m in \u001b[0;36m__call__\u001b[1;34m(self, *args, **kwargs)\u001b[0m\n\u001b[0;32m    860\u001b[0m         \u001b[1;32mtry\u001b[0m\u001b[1;33m:\u001b[0m\u001b[1;33m\u001b[0m\u001b[0m\n\u001b[0;32m    861\u001b[0m             \u001b[0moutputs\u001b[0m \u001b[1;33m=\u001b[0m\u001b[0;31m\\\u001b[0m\u001b[1;33m\u001b[0m\u001b[0m\n\u001b[1;32m--> 862\u001b[1;33m                 \u001b[0mself\u001b[0m\u001b[1;33m.\u001b[0m\u001b[0mfn\u001b[0m\u001b[1;33m(\u001b[0m\u001b[1;33m)\u001b[0m \u001b[1;32mif\u001b[0m \u001b[0moutput_subset\u001b[0m \u001b[1;32mis\u001b[0m \u001b[0mNone\u001b[0m \u001b[1;32melse\u001b[0m\u001b[0;31m\\\u001b[0m\u001b[1;33m\u001b[0m\u001b[0m\n\u001b[0m\u001b[0;32m    863\u001b[0m                 \u001b[0mself\u001b[0m\u001b[1;33m.\u001b[0m\u001b[0mfn\u001b[0m\u001b[1;33m(\u001b[0m\u001b[0moutput_subset\u001b[0m\u001b[1;33m=\u001b[0m\u001b[0moutput_subset\u001b[0m\u001b[1;33m)\u001b[0m\u001b[1;33m\u001b[0m\u001b[0m\n\u001b[0;32m    864\u001b[0m         \u001b[1;32mexcept\u001b[0m \u001b[0mException\u001b[0m\u001b[1;33m:\u001b[0m\u001b[1;33m\u001b[0m\u001b[0m\n",
      "\u001b[1;31mKeyboardInterrupt\u001b[0m: "
     ]
    }
   ],
   "source": [
    "nb_train_samples = 5*1024   #1/4 of epoc\n",
    "nb_validation_samples = 1*1024\n",
    "\n",
    "\n",
    "model = define_model()\n",
    "print 'model started from scratch'\n",
    "model_name = 'model3_optimization_test'\n",
    "#model=loadFromFiles(model_name)\n",
    "#print 'model',model_name,'loaded'\n",
    "model.compile(loss='categorical_crossentropy', optimizer='adam', metrics=['accuracy'])\n",
    "print 'model',model_name,'compiled'\n",
    "\n",
    "history_list = []\n",
    "if True:    \n",
    "    for i in range (200):\n",
    "        history=model.fit_generator(\n",
    "            train_generator,\n",
    "            samples_per_epoch=nb_train_samples,\n",
    "            nb_epoch=1,\n",
    "            validation_data=validation_generator,\n",
    "            nb_val_samples=nb_validation_samples)\n",
    "        history_list.append(history)\n",
    "        saveToFiles(model,'model_chapter3_'+str(i)+'epoc')\n",
    "        if i>1 and i%10==0:\n",
    "            graph_history(history_list)\n",
    "        \n",
    "\n",
    "\n"
   ]
  },
  {
   "cell_type": "code",
   "execution_count": null,
   "metadata": {
    "collapsed": false
   },
   "outputs": [],
   "source": [
    "\n"
   ]
  },
  {
   "cell_type": "code",
   "execution_count": null,
   "metadata": {
    "collapsed": false
   },
   "outputs": [],
   "source": [
    "print model.count_params()\n",
    "print model.summary()"
   ]
  },
  {
   "cell_type": "code",
   "execution_count": null,
   "metadata": {
    "collapsed": false
   },
   "outputs": [],
   "source": [
    " graph_history(history_list)"
   ]
  },
  {
   "cell_type": "code",
   "execution_count": null,
   "metadata": {
    "collapsed": false
   },
   "outputs": [],
   "source": []
  },
  {
   "cell_type": "markdown",
   "metadata": {
    "collapsed": true
   },
   "source": [
    "\n",
    "Epoch 1/1\n",
    "10016/10000 [==============================] - 1326s - loss: 2.7253 - acc: 0.6575 - val_loss: 0.8317 - val_acc: 0.7143\n",
    "Saved model to disk model3_35epoc\n",
    "Epoch 1/1\n",
    "10008/10000 [==============================] - 1324s - loss: 2.5279 - acc: 0.6697 - val_loss: 0.7446 - val_acc: 0.7436\n",
    "Saved model to disk model3_36epoc\n",
    "Epoch 1/1\n",
    " 9152/10000 [==========================>...] - ETA: 115s - loss: 2.6055 - acc: 0.6661"
   ]
  }
 ],
 "metadata": {
  "anaconda-cloud": {},
  "kernelspec": {
   "display_name": "Python [default]",
   "language": "python",
   "name": "python2"
  },
  "language_info": {
   "codemirror_mode": {
    "name": "ipython",
    "version": 2
   },
   "file_extension": ".py",
   "mimetype": "text/x-python",
   "name": "python",
   "nbconvert_exporter": "python",
   "pygments_lexer": "ipython2",
   "version": "2.7.12"
  }
 },
 "nbformat": 4,
 "nbformat_minor": 0
}
